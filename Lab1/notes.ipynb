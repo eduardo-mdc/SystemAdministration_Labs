{
 "cells": [
  {
   "cell_type": "markdown",
   "metadata": {},
   "source": [
    "# LAB 1"
   ]
  },
  {
   "cell_type": "markdown",
   "metadata": {},
   "source": [
    "# Contas do Sistema\n"
   ]
  },
  {
   "cell_type": "code",
   "execution_count": 16,
   "metadata": {
    "vscode": {
     "languageId": "shellscript"
    }
   },
   "outputs": [
    {
     "name": "stdout",
     "output_type": "stream",
     "text": [
      "root:x:0:0:Super User:/root:/bin/bash\n",
      "bin:x:1:1:bin:/bin:/usr/sbin/nologin\n",
      "daemon:x:2:2:daemon:/sbin:/usr/sbin/nologin\n",
      "adm:x:3:4:adm:/var/adm:/usr/sbin/nologin\n",
      "lp:x:4:7:lp:/var/spool/lpd:/usr/sbin/nologin\n",
      "sync:x:5:0:sync:/sbin:/bin/sync\n",
      "shutdown:x:6:0:shutdown:/sbin:/sbin/shutdown\n",
      "halt:x:7:0:halt:/sbin:/sbin/halt\n",
      "mail:x:8:12:mail:/var/spool/mail:/usr/sbin/nologin\n",
      "operator:x:11:0:operator:/root:/usr/sbin/nologin\n",
      "games:x:12:100:games:/usr/games:/usr/sbin/nologin\n",
      "ftp:x:14:50:FTP User:/var/ftp:/usr/sbin/nologin\n",
      "nobody:x:65534:65534:Kernel Overflow User:/:/usr/sbin/nologin\n",
      "dbus:x:81:81:System Message Bus:/:/usr/sbin/nologin\n",
      "apache:x:48:48:Apache:/usr/share/httpd:/sbin/nologin\n",
      "tss:x:59:59:Account used for TPM access:/:/usr/sbin/nologin\n",
      "systemd-network:x:192:192:systemd Network Management:/:/usr/sbin/nologin\n",
      "systemd-oom:x:999:999:systemd Userspace OOM Killer:/:/usr/sbin/nologin\n",
      "systemd-resolve:x:193:193:systemd Resolver:/:/usr/sbin/nologin\n",
      "qemu:x:107:107:qemu user:/:/sbin/nologin\n",
      "polkitd:x:998:997:User for polkitd:/:/sbin/nologin\n",
      "avahi:x:70:70:Avahi mDNS/DNS-SD Stack:/var/run/avahi-daemon:/sbin/nologin\n",
      "geoclue:x:997:996:User for geoclue:/var/lib/geoclue:/sbin/nologin\n",
      "nm-openconnect:x:996:995:NetworkManager user for OpenConnect:/:/sbin/nologin\n",
      "colord:x:995:994:User for colord:/var/lib/colord:/sbin/nologin\n",
      "usbmuxd:x:113:113:usbmuxd user:/:/sbin/nologin\n",
      "gluster:x:994:993:GlusterFS daemons:/run/gluster:/sbin/nologin\n",
      "rtkit:x:172:172:RealtimeKit:/proc:/sbin/nologin\n",
      "pipewire:x:993:992:PipeWire System Daemon:/var/run/pipewire:/sbin/nologin\n",
      "chrony:x:992:990:chrony system user:/var/lib/chrony:/sbin/nologin\n",
      "dnsmasq:x:991:989:Dnsmasq DHCP and DNS server:/var/lib/dnsmasq:/usr/sbin/nologin\n",
      "rpc:x:32:32:Rpcbind Daemon:/var/lib/rpcbind:/sbin/nologin\n",
      "saslauth:x:990:76:Saslauthd user:/run/saslauthd:/sbin/nologin\n",
      "rpcuser:x:29:29:RPC Service User:/var/lib/nfs:/sbin/nologin\n",
      "openvpn:x:989:988:OpenVPN:/etc/openvpn:/sbin/nologin\n",
      "nm-openvpn:x:988:987:Default user for running openvpn spawned by NetworkManager:/:/sbin/nologin\n",
      "unbound:x:987:986:Unbound DNS resolver:/var/lib/unbound:/sbin/nologin\n",
      "abrt:x:173:173::/etc/abrt:/sbin/nologin\n",
      "flatpak:x:986:984:Flatpak system helper:/:/usr/sbin/nologin\n",
      "gdm:x:42:42:GNOME Display Manager:/var/lib/gdm:/usr/sbin/nologin\n",
      "gnome-initial-setup:x:985:983::/run/gnome-initial-setup/:/sbin/nologin\n",
      "vboxadd:x:984:1::/var/run/vboxadd:/sbin/nologin\n",
      "sshd:x:74:74:Privilege-separated SSH:/usr/share/empty.sshd:/usr/sbin/nologin\n",
      "tcpdump:x:72:72:tcpdump:/:/usr/sbin/nologin\n",
      "systemd-coredump:x:978:978:systemd Core Dumper:/:/usr/sbin/nologin\n",
      "systemd-timesync:x:977:977:systemd Time Synchronization:/:/usr/sbin/nologin\n",
      "eduardo-mdc:x:1000:1000:Eduardo Correia:/home/eduardo-mdc:/bin/bash\n",
      "akmods:x:976:976:User is used by akmods to build akmod packages:/var/cache/akmods/:/sbin/nologin\n"
     ]
    }
   ],
   "source": [
    "cat /etc/passwd"
   ]
  },
  {
   "cell_type": "code",
   "execution_count": 17,
   "metadata": {
    "vscode": {
     "languageId": "shellscript"
    }
   },
   "outputs": [
    {
     "name": "stdout",
     "output_type": "stream",
     "text": [
      "Place your right index finger on the fingerprint reader\n"
     ]
    }
   ],
   "source": [
    "sudo cat /etc/shadow"
   ]
  },
  {
   "cell_type": "markdown",
   "metadata": {},
   "source": [
    "### Porque é que os dados das contas se encontram distribuídas por dois ficheiros?\n",
    "\n",
    "Para manter, a segurança do sistema o OS separa as passwords do resto da informação dos utilizadores. Desta forma, '/etc/passwd' tem as permissões de forma a que utilizadores que não são root conseguem ver o ficheiro (alterar apenas root), enquanto apenas root consegue ver '/etc/shadow', que contém as passwords encriptadas. "
   ]
  },
  {
   "cell_type": "code",
   "execution_count": null,
   "metadata": {
    "vscode": {
     "languageId": "shellscript"
    }
   },
   "outputs": [
    {
     "name": "stdout",
     "output_type": "stream",
     "text": [
      "-rw-r--r--. 1 root root 2810 Jul 13 01:59 /etc/passwd\n"
     ]
    }
   ],
   "source": [
    "sudo ls -l /etc/passwd"
   ]
  },
  {
   "cell_type": "code",
   "execution_count": null,
   "metadata": {
    "vscode": {
     "languageId": "shellscript"
    }
   },
   "outputs": [
    {
     "name": "stdout",
     "output_type": "stream",
     "text": [
      "----------. 1 root root 1265 Jul 13 01:59 /etc/shadow\n"
     ]
    }
   ],
   "source": [
    "sudo ls -l /etc/shadow"
   ]
  },
  {
   "cell_type": "markdown",
   "metadata": {},
   "source": [
    "### Verifique as permissões do /etc/shadow e diga porque é que só a root pode ter permissões de leitura?\n",
    "\n",
    "Como vimos antes, através do comando `sudo ls -l /etc/shadow`, as permissões do ficheiro são `----------. 1 root root`. Que ninguem para além do dono do ficheiro pode fazer operações de qualquer tipo."
   ]
  },
  {
   "cell_type": "markdown",
   "metadata": {},
   "source": [
    "### Sendo assim, porque é que o ficheiro /etc/passwd precisa de poder ser lido por todos os utilizadores? (veja mais no nixCraft)\n",
    "\n",
    "Porque as aplicações do sistema precisam de conseguir dar map a Id's de utilizadores para nomes de utilizadores."
   ]
  },
  {
   "cell_type": "markdown",
   "metadata": {},
   "source": [
    "### 3. Familiarize-se com algumas das ferramentas de texto mais úteis estudando o tutorial Advanced Bash-Scripting Guide: Chapter 16. External Filters, Programs and Commands. (veja cut, sort, uniq, wc e grep)\n",
    "\n",
    "\n"
   ]
  },
  {
   "cell_type": "markdown",
   "metadata": {},
   "source": [
    "### 4. Neste exercício vamos usar o ficheiro /etc/passwd e o shadow (o que se descarregou)."
   ]
  },
  {
   "cell_type": "markdown",
   "metadata": {},
   "source": [
    "### 5."
   ]
  },
  {
   "cell_type": "markdown",
   "metadata": {},
   "source": [
    "Encadeie os comandos necessários de modo a listar por ordem alfabética todas as contas (utilizadores no /etc/passwd)."
   ]
  },
  {
   "cell_type": "code",
   "execution_count": null,
   "metadata": {
    "vscode": {
     "languageId": "shellscript"
    }
   },
   "outputs": [
    {
     "name": "stdout",
     "output_type": "stream",
     "text": [
      "abrt\n",
      "adm\n",
      "akmods\n",
      "apache\n",
      "avahi\n",
      "bin\n",
      "chrony\n",
      "colord\n",
      "daemon\n",
      "dbus\n",
      "dnsmasq\n",
      "eduardo-mdc\n",
      "flatpak\n",
      "ftp\n",
      "games\n",
      "gdm\n",
      "geoclue\n",
      "gluster\n",
      "gnome-initial-setup\n",
      "halt\n",
      "lp\n",
      "mail\n",
      "nm-openconnect\n",
      "nm-openvpn\n",
      "nobody\n",
      "openvpn\n",
      "operator\n",
      "pipewire\n",
      "polkitd\n",
      "qemu\n",
      "root\n",
      "rpc\n",
      "rpcuser\n",
      "rtkit\n",
      "saslauth\n",
      "shutdown\n",
      "sshd\n",
      "sync\n",
      "systemd-coredump\n",
      "systemd-network\n",
      "systemd-oom\n",
      "systemd-resolve\n",
      "systemd-timesync\n",
      "tcpdump\n",
      "tss\n",
      "unbound\n",
      "usbmuxd\n",
      "vboxadd\n"
     ]
    }
   ],
   "source": [
    "cat /etc/passwd | cut -d ':' -f -1 | sort | uniq"
   ]
  },
  {
   "cell_type": "markdown",
   "metadata": {},
   "source": [
    "Determine quantas contas são."
   ]
  },
  {
   "cell_type": "code",
   "execution_count": null,
   "metadata": {
    "vscode": {
     "languageId": "shellscript"
    }
   },
   "outputs": [
    {
     "name": "stdout",
     "output_type": "stream",
     "text": [
      "48\n"
     ]
    }
   ],
   "source": [
    "cat /etc/passwd | cut -d ':' -f -1 | sort | uniq | wc -l\n"
   ]
  },
  {
   "cell_type": "markdown",
   "metadata": {},
   "source": [
    "### Quantas \"shell\"s distintas (campo 7 do /etc/passwd) estão configuradas no universo de todas as contas (verifique o resultado do uniq tendo em conta o que ele está à espera na entrada (input) (veja a Note: do manual))."
   ]
  },
  {
   "cell_type": "code",
   "execution_count": null,
   "metadata": {
    "vscode": {
     "languageId": "shellscript"
    }
   },
   "outputs": [
    {
     "name": "stdout",
     "output_type": "stream",
     "text": [
      "6\n"
     ]
    }
   ],
   "source": [
    "cat /etc/passwd | cut -d ':' -f 7- | sort | uniq | wc -l"
   ]
  },
  {
   "cell_type": "markdown",
   "metadata": {},
   "source": [
    "### Indique essas \"shell\" listadas por ordem alfabética, precedidas do seu número de ocorrências no /etc/passwd. (Sugestão: O comando uniq tem uma opção para as ocorrências que lhe permite fazer isto de um modo simples)."
   ]
  },
  {
   "cell_type": "code",
   "execution_count": null,
   "metadata": {
    "vscode": {
     "languageId": "shellscript"
    }
   },
   "outputs": [
    {
     "name": "stdout",
     "output_type": "stream",
     "text": [
      "      2 /bin/bash\n",
      "      1 /bin/sync\n",
      "      1 /sbin/halt\n",
      "     22 /sbin/nologin\n",
      "      1 /sbin/shutdown\n",
      "     21 /usr/sbin/nologin\n"
     ]
    }
   ],
   "source": [
    "cat /etc/passwd | cut -d ':' -f 7- | sort | uniq -c "
   ]
  },
  {
   "cell_type": "markdown",
   "metadata": {},
   "source": [
    "### Quais são as contas com password (use o ficheiro shadow auxiliar)? Notas: veja o grep para expressões regulares, e note a expressão de [^ ]. Para usar expressões regulares estendidas (como no caso) no grep deve usar uma opção, verifique qual no manual."
   ]
  },
  {
   "cell_type": "code",
   "execution_count": null,
   "metadata": {
    "vscode": {
     "languageId": "shellscript"
    }
   },
   "outputs": [
    {
     "name": "stdout",
     "output_type": "stream",
     "text": [
      "eduardo-mdc\n"
     ]
    }
   ],
   "source": [
    "sudo cat /etc/shadow | grep -vE '(\\*|!!|!)' | cut -d ':' -f -1 | sort | uniq\n"
   ]
  },
  {
   "cell_type": "code",
   "execution_count": null,
   "metadata": {
    "vscode": {
     "languageId": "shellscript"
    }
   },
   "outputs": [],
   "source": []
  },
  {
   "cell_type": "markdown",
   "metadata": {},
   "source": [
    "### Quais são as contas sem password (use o ficheiro shadow auxiliar)? Nota: veja a o argumento -v do grep."
   ]
  },
  {
   "cell_type": "code",
   "execution_count": null,
   "metadata": {
    "vscode": {
     "languageId": "shellscript"
    }
   },
   "outputs": [
    {
     "name": "stdout",
     "output_type": "stream",
     "text": [
      "abrt\n",
      "adm\n",
      "akmods\n",
      "apache\n",
      "avahi\n",
      "bin\n",
      "chrony\n",
      "colord\n",
      "daemon\n",
      "dbus\n",
      "dnsmasq\n",
      "flatpak\n",
      "ftp\n",
      "games\n",
      "gdm\n",
      "geoclue\n",
      "gluster\n",
      "gnome-initial-setup\n",
      "halt\n",
      "lp\n",
      "mail\n",
      "nm-openconnect\n",
      "nm-openvpn\n",
      "nobody\n",
      "openvpn\n",
      "operator\n",
      "pipewire\n",
      "polkitd\n",
      "qemu\n",
      "root\n",
      "rpc\n",
      "rpcuser\n",
      "rtkit\n",
      "saslauth\n",
      "shutdown\n",
      "sshd\n",
      "sync\n",
      "systemd-coredump\n",
      "systemd-network\n",
      "systemd-oom\n",
      "systemd-resolve\n",
      "systemd-timesync\n",
      "tcpdump\n",
      "tss\n",
      "unbound\n",
      "usbmuxd\n",
      "vboxadd\n"
     ]
    }
   ],
   "source": [
    "sudo cat /etc/shadow | grep -E '(\\*|!!|!)' | cut -d ':' -f -1 | sort | uniq"
   ]
  },
  {
   "cell_type": "markdown",
   "metadata": {},
   "source": [
    "# Procurar ficheiros\n",
    "Vamos agora percorrer a árvore de ficheiros à procura de ficheiros com determinadas características e depois recolher algumas estatísticas referentes a esses ficheiros.\n",
    "\n",
    "Use o comando find, nos ficheiros da sua home e da raiz do sistema (/). Veja o manual do find, nomeadamente o -type, -exec e o -xdev para quando procurar na raiz. Pode também ver o comando xargs."
   ]
  },
  {
   "cell_type": "markdown",
   "metadata": {},
   "source": [
    "### Use o find para correr o comando md5sum (consulte a sua página do manual para ver o que está a ser calculado e para que serve) sobre todos os ficheiros que se encontrem na sua pasta de .config. (caso sejam muitos ficheiros restrinja usando o -maxdepth ou o -name para serem menos). Redireccione o output para um ficheiro somas_md5_myHome.\n"
   ]
  },
  {
   "cell_type": "code",
   "execution_count": null,
   "metadata": {
    "vscode": {
     "languageId": "shellscript"
    }
   },
   "outputs": [],
   "source": [
    "find ~/.config -type f -exec md5sum {} + > somas_md5_myHome"
   ]
  },
  {
   "cell_type": "markdown",
   "metadata": {},
   "source": [
    "### Use agora o comando md5sum para verificar se as sínteses (hashs) criptográficas guardadas neste ficheiros ainda \"batem certo\" com os ficheiros em disco.\n"
   ]
  },
  {
   "cell_type": "code",
   "execution_count": 2,
   "metadata": {
    "vscode": {
     "languageId": "shellscript"
    }
   },
   "outputs": [
    {
     "name": "stdout",
     "output_type": "stream",
     "text": [
      "/home/eduardo-mdc/.config/Code - Insiders/Cache/Cache_Data/index-dir/the-real-index: FAILED\n",
      "/home/eduardo-mdc/.config/Code - Insiders/logs/20230928T173203/window1/renderer.log: FAILED\n",
      "/home/eduardo-mdc/.config/Code - Insiders/logs/20230928T173203/window1/exthost/vscode.git/Git.log: FAILED\n",
      "/home/eduardo-mdc/.config/Code - Insiders/logs/20230928T173203/window1/exthost/output_logging_20230928T173205/1-GitHub Copilot.log: FAILED\n",
      "/home/eduardo-mdc/.config/Code - Insiders/logs/20230928T173203/window1/exthost/output_logging_20230928T173205/5-Jupyter.log: FAILED\n",
      "/home/eduardo-mdc/.config/Code - Insiders/logs/20230928T173203/window1/exthost/ms-python.python/Python.log: FAILED\n",
      "/home/eduardo-mdc/.config/Code - Insiders/User/globalStorage/state.vscdb: FAILED\n",
      "/home/eduardo-mdc/.config/Code - Insiders/User/globalStorage/storage.json: FAILED\n",
      "/home/eduardo-mdc/.config/Code - Insiders/User/workspaceStorage/3d9c11d64411ca1b571c3fa4c292f33c/state.vscdb: FAILED\n",
      "/home/eduardo-mdc/.config/Code - Insiders/User/History/-3e19fbda/entries.json: FAILED\n",
      "md5sum: '/home/eduardo-mdc/.config/Code - Insiders/User/History/-3e19fbda/wnkC.ipynb': No such file or directory\n",
      "md5sum: '/home/eduardo-mdc/.config/Code - Insiders/User/History/-3e19fbda/v3AI.ipynb'/home/eduardo-mdc/.config/Code - Insiders/User/History/-3e19fbda/wnkC.ipynb: FAILED open or read\n",
      ": No such file or directory\n",
      "md5sum: /home/eduardo-mdc/.config/Code - Insiders/User/History/-3e19fbda/v3AI.ipynb: FAILED open or read\n",
      "'/home/eduardo-mdc/.config/Code - Insiders/User/History/-3e19fbda/E7aR.ipynb': No such file or directory\n",
      "md5sum: '/home/eduardo-mdc/.config/Code - Insiders/User/History/-3e19fbda/V2a3.ipynb'/home/eduardo-mdc/.config/Code - Insiders/User/History/-3e19fbda/E7aR.ipynb: FAILED open or read\n",
      ": No such file or directory\n",
      "md5sum: '/home/eduardo-mdc/.config/Code - Insiders/User/History/-3e19fbda/XleS.ipynb': No such file or directory/home/eduardo-mdc/.config/Code - Insiders/User/History/-3e19fbda/V2a3.ipynb: FAILED open or read\n",
      "\n",
      "md5sum: /home/eduardo-mdc/.config/Code - Insiders/User/History/-3e19fbda/XleS.ipynb: FAILED open or read\n",
      "'/home/eduardo-mdc/.config/Code - Insiders/User/History/-3e19fbda/D9Yl.ipynb': No such file or directory\n",
      "md5sum: /home/eduardo-mdc/.config/Code - Insiders/User/History/-3e19fbda/D9Yl.ipynb: FAILED open or read\n",
      "'/home/eduardo-mdc/.config/Code - Insiders/User/History/-3e19fbda/RRdy.ipynb': No such file or directory\n",
      "md5sum: /home/eduardo-mdc/.config/Code - Insiders/User/History/-3e19fbda/RRdy.ipynb: FAILED open or read\n",
      "'/home/eduardo-mdc/.config/Code - Insiders/User/History/-3e19fbda/0JVy.ipynb': No such file or directory\n",
      "md5sum: '/home/eduardo-mdc/.config/Code - Insiders/User/History/-3e19fbda/nVrH.ipynb'/home/eduardo-mdc/.config/Code - Insiders/User/History/-3e19fbda/0JVy.ipynb: FAILED open or read\n",
      ": No such file or directory\n",
      "md5sum: /home/eduardo-mdc/.config/Code - Insiders/User/History/-3e19fbda/nVrH.ipynb: FAILED open or read\n",
      "'/home/eduardo-mdc/.config/Code - Insiders/User/History/-3e19fbda/lZah.ipynb': No such file or directory\n",
      "md5sum: '/home/eduardo-mdc/.config/Code - Insiders/User/History/-3e19fbda/0QJi.ipynb'/home/eduardo-mdc/.config/Code - Insiders/User/History/-3e19fbda/lZah.ipynb: FAILED open or read\n",
      ": No such file or directory\n",
      "/home/eduardo-mdc/.config/Code - Insiders/User/History/-3e19fbda/0QJi.ipynb: FAILED open or read\n",
      "/home/eduardo-mdc/.config/Code - Insiders/GPUCache/data_1: FAILED\n",
      "/home/eduardo-mdc/.config/Code - Insiders/DawnCache/data_1: FAILED\n",
      "/home/eduardo-mdc/.config/Code - Insiders/WebStorage/QuotaManager: FAILED\n",
      "/home/eduardo-mdc/.config/Code - Insiders/TransportSecurity: FAILED\n",
      "md5sum: WARNING: 11 listed files could not be read\n",
      "md5sum: WARNING: 14 computed checksums did NOT match\n"
     ]
    }
   ],
   "source": [
    "md5sum --check somas_md5_myHome | grep -v OK"
   ]
  },
  {
   "cell_type": "markdown",
   "metadata": {},
   "source": [
    "### Liste os detalhes (-ls do find) de todos os ficheiros executáveis do sistema (veja -perm e -executable)."
   ]
  },
  {
   "cell_type": "code",
   "execution_count": 1,
   "metadata": {
    "vscode": {
     "languageId": "shellscript"
    }
   },
   "outputs": [
    {
     "name": "stdout",
     "output_type": "stream",
     "text": [
      "Place your right index finger on the fingerprint reader\n",
      "Verification timed out\n",
      "[sudo] password for eduardo-mdc: \n",
      "sudo: a password is required\n"
     ]
    }
   ],
   "source": [
    "sudo find / -type f -executable -maxdepth 3"
   ]
  },
  {
   "cell_type": "markdown",
   "metadata": {},
   "source": [
    "### Liste todos os ficheiros executáveis e que não pertencem ao utilizador root."
   ]
  },
  {
   "cell_type": "code",
   "execution_count": 1,
   "metadata": {
    "vscode": {
     "languageId": "shellscript"
    }
   },
   "outputs": [
    {
     "name": "stdout",
     "output_type": "stream",
     "text": [
      "Place your right index finger on the fingerprint reader\n"
     ]
    }
   ],
   "source": [
    "sudo find / -type f -executable ! -user root"
   ]
  },
  {
   "cell_type": "markdown",
   "metadata": {},
   "source": [
    "### Liste o ficheiro executável mais antigo. Sugestão: Vai precisar do comando xargs e das opções existentes para critérios de ordenação do output do comando ls. O comando tail também poderá ser útil. Pode restringir a busca ao diretório /usr/bin.\n"
   ]
  },
  {
   "cell_type": "code",
   "execution_count": null,
   "metadata": {
    "vscode": {
     "languageId": "shellscript"
    }
   },
   "outputs": [],
   "source": [
    "sudo find /usr/bin -type f -executable | xargs ls -lt | tail -n 1\n"
   ]
  },
  {
   "cell_type": "markdown",
   "metadata": {},
   "source": [
    "### Liste o ficheiro executável do utilizador root mais recente."
   ]
  },
  {
   "cell_type": "code",
   "execution_count": null,
   "metadata": {
    "vscode": {
     "languageId": "shellscript"
    }
   },
   "outputs": [],
   "source": [
    "sudo find /usr/bin -type f -executable -user root | xargs ls -lt | head -n 1\n"
   ]
  },
  {
   "cell_type": "markdown",
   "metadata": {},
   "source": [
    "### Liste todos os ficheiros da sua home (o que tem a variável de ambiente $HOME) que sejam mais recentes que o ficheiro mais recente debaixo de /etc que tenha permissões para ler."
   ]
  },
  {
   "cell_type": "code",
   "execution_count": null,
   "metadata": {
    "vscode": {
     "languageId": "shellscript"
    }
   },
   "outputs": [],
   "source": [
    "find ~/ -type f -newer $(find /etc -type f -readable -printf \"%T@ %p\\n\" | sort -n | tail -n 1 | cut -f2- -d ' ')\n"
   ]
  },
  {
   "cell_type": "markdown",
   "metadata": {},
   "source": [
    "- ```find /etc -type f -readable -printf \"%T@ %p\\n\"``` : Encontra todos os arquivos em /etc que são legíveis e imprime a data de modificação em formato de marca de tempo Unix (%T@) e o nome do arquivo (%p) em cada linha.\n",
    "\n",
    "- ```sort -n``` : Classifica as linhas com base na marca de tempo Unix em ordem numérica (ordem crescente).\n",
    "\n",
    "- ```tail -n 1``` : última linha, que corresponderá ao arquivo mais recente em /etc que é legível.\n",
    "\n",
    "- ```cut -f2- -d ' '``` : Separa a linha para obter apenas o nome do arquivo mais recente."
   ]
  }
 ],
 "metadata": {
  "kernelspec": {
   "display_name": "Bash",
   "language": "bash",
   "name": "bash"
  },
  "language_info": {
   "codemirror_mode": "shell",
   "file_extension": ".sh",
   "mimetype": "text/x-sh",
   "name": "bash"
  },
  "orig_nbformat": 4
 },
 "nbformat": 4,
 "nbformat_minor": 2
}
